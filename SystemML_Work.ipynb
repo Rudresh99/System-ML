{
  "nbformat": 4,
  "nbformat_minor": 0,
  "metadata": {
    "kernelspec": {
      "name": "python3",
      "display_name": "Python 3.6",
      "language": "python"
    },
    "language_info": {
      "name": "python",
      "version": "3.6.9",
      "mimetype": "text/x-python",
      "codemirror_mode": {
        "name": "ipython",
        "version": 3
      },
      "pygments_lexer": "ipython3",
      "nbconvert_exporter": "python",
      "file_extension": ".py"
    },
    "colab": {
      "name": "SystemML Work.ipynb",
      "provenance": [],
      "collapsed_sections": [],
      "include_colab_link": true
    }
  },
  "cells": [
    {
      "cell_type": "markdown",
      "metadata": {
        "id": "view-in-github",
        "colab_type": "text"
      },
      "source": [
        "<a href=\"https://colab.research.google.com/github/Rudresh99/System-ML/blob/master/SystemML_Work.ipynb\" target=\"_parent\"><img src=\"https://colab.research.google.com/assets/colab-badge.svg\" alt=\"Open In Colab\"/></a>"
      ]
    },
    {
      "cell_type": "markdown",
      "metadata": {
        "id": "y3rcY-8PjmeZ",
        "colab_type": "text"
      },
      "source": [
        "# Scripted By : Rudresh Joshi { Tuscon } \n",
        "\n",
        "# LinkedIn  : https://www.linkedin.com/in/rudresh-joshi-b1397517a/\n",
        "\n",
        "# GitHub : [Tuscon](https://github.com/Rudresh99)\n",
        "## Understaning scaling of linear algebra operations on Apache Spark using Apache SystemML\n",
        "\n",
        "In this notebook we understand how to scale linear algebra operations from a single machine to multiple machines, memory and CPU cores using Apache SystemML. Therefore we want to understand how to migrate from a numpy program to a SystemML DML program.\n",
        "\n",
        "Finally, We won't need this knowledge anyways if you are sticking to Keras only, but once we go beyond that point we will be happy to see what's going on behind the scenes.\n",
        "\n",
        "So the first thing we need to ensure is that we are on the latest version of SystemML, which is 1.2.0:\n",
        "\n",
        "The steps are:\n",
        "- pip install\n",
        "- start execution at the cell with the version - check"
      ]
    },
    {
      "cell_type": "code",
      "metadata": {
        "id": "ijnPnWsPjmef",
        "colab_type": "code",
        "colab": {},
        "outputId": "ccab6e61-52ea-4c21-cd6b-f3d395c2cfa7"
      },
      "source": [
        "!pip install pyspark==2.4.5"
      ],
      "execution_count": 0,
      "outputs": [
        {
          "output_type": "stream",
          "text": [
            "Requirement already satisfied: pyspark==2.4.5 in /opt/conda/envs/Python36/lib/python3.6/site-packages (2.4.5)\r\n",
            "Requirement already satisfied: py4j==0.10.7 in /opt/conda/envs/Python36/lib/python3.6/site-packages (from pyspark==2.4.5) (0.10.7)\r\n"
          ],
          "name": "stdout"
        }
      ]
    },
    {
      "cell_type": "code",
      "metadata": {
        "id": "ZMl5Asdijmek",
        "colab_type": "code",
        "colab": {},
        "outputId": "92a3c735-d89e-46a8-f08f-943de1ed61c8"
      },
      "source": [
        "!pip install systemml"
      ],
      "execution_count": 0,
      "outputs": [
        {
          "output_type": "stream",
          "text": [
            "Requirement already satisfied: systemml in /opt/conda/envs/Python36/lib/python3.6/site-packages (1.2.0)\r\n",
            "Requirement already satisfied: numpy>=1.8.2 in /opt/conda/envs/Python36/lib/python3.6/site-packages (from systemml) (1.15.4)\r\n",
            "Requirement already satisfied: pandas in /opt/conda/envs/Python36/lib/python3.6/site-packages (from systemml) (0.24.1)\r\n",
            "Requirement already satisfied: Pillow>=2.0.0 in /opt/conda/envs/Python36/lib/python3.6/site-packages (from systemml) (5.4.1)\r\n",
            "Requirement already satisfied: scikit-learn in /opt/conda/envs/Python36/lib/python3.6/site-packages (from systemml) (0.20.3)\r\n",
            "Requirement already satisfied: scipy>=0.15.1 in /opt/conda/envs/Python36/lib/python3.6/site-packages (from systemml) (1.2.0)\r\n",
            "Requirement already satisfied: pytz>=2011k in /opt/conda/envs/Python36/lib/python3.6/site-packages (from pandas->systemml) (2018.9)\r\n",
            "Requirement already satisfied: python-dateutil>=2.5.0 in /opt/conda/envs/Python36/lib/python3.6/site-packages (from pandas->systemml) (2.7.5)\r\n",
            "Requirement already satisfied: six>=1.5 in /opt/conda/envs/Python36/lib/python3.6/site-packages (from python-dateutil>=2.5.0->pandas->systemml) (1.12.0)\r\n"
          ],
          "name": "stdout"
        }
      ]
    },
    {
      "cell_type": "code",
      "metadata": {
        "id": "3gYbqla1jmeo",
        "colab_type": "code",
        "colab": {}
      },
      "source": [
        "from pyspark import SparkContext, SparkConf\n",
        "from pyspark.sql import SQLContext, SparkSession\n",
        "from pyspark.sql.types import StructType, StructField, DoubleType, IntegerType, StringType\n",
        "sc = SparkContext.getOrCreate(SparkConf().setMaster(\"local[*]\"))\n",
        "from pyspark.sql import SparkSession\n",
        "spark = SparkSession \\\n",
        "    .builder \\\n",
        "    .getOrCreate()"
      ],
      "execution_count": 0,
      "outputs": []
    },
    {
      "cell_type": "code",
      "metadata": {
        "id": "flILFWlEjmes",
        "colab_type": "code",
        "colab": {}
      },
      "source": [
        "!mkdir -p /home/dsxuser/work/systemml"
      ],
      "execution_count": 0,
      "outputs": []
    },
    {
      "cell_type": "code",
      "metadata": {
        "id": "WpXXpWoVjmev",
        "colab_type": "code",
        "colab": {},
        "outputId": "2d6e0dfa-9833-4634-b623-895aff483011"
      },
      "source": [
        "from systemml import MLContext, dml\n",
        "import numpy as np\n",
        "import time\n",
        "ml = MLContext(spark)\n",
        "ml.setConfigProperty(\"sysml.localtmpdir\", \"mkdir /home/dsxuser/work/systemml\")\n",
        "print(ml.version())\n",
        "    \n",
        "if not ml.version() == '1.2.0':\n",
        "    raise ValueError('please upgrade to SystemML 1.2.0, or restart your Kernel (Kernel->Restart & Clear Output)')"
      ],
      "execution_count": 0,
      "outputs": [
        {
          "output_type": "stream",
          "text": [
            "1.2.0\n"
          ],
          "name": "stdout"
        }
      ]
    },
    {
      "cell_type": "markdown",
      "metadata": {
        "id": "1oZH5OQXjmez",
        "colab_type": "text"
      },
      "source": [
        "Congratulations, Now we see version 1.2.0, so we can continue with the notebook..."
      ]
    },
    {
      "cell_type": "markdown",
      "metadata": {
        "id": "ulBEWVfQjme0",
        "colab_type": "text"
      },
      "source": [
        "We use an MLContext to interface with Apache SystemML. Note that we passed a SparkSession object as parameter so SystemML now knows how to talk to the Apache Spark cluster"
      ]
    },
    {
      "cell_type": "markdown",
      "metadata": {
        "id": "8voJJB_Yjme1",
        "colab_type": "text"
      },
      "source": [
        "Now we create some large random matrices to have numpy and SystemML crunch on it"
      ]
    },
    {
      "cell_type": "code",
      "metadata": {
        "id": "YRgY068vjme2",
        "colab_type": "code",
        "colab": {}
      },
      "source": [
        "u = np.random.rand(1000,10000)\n",
        "s = np.random.rand(10000,1000)\n",
        "w = np.random.rand(1000,1000)"
      ],
      "execution_count": 0,
      "outputs": []
    },
    {
      "cell_type": "markdown",
      "metadata": {
        "id": "h7RQzOdvjme6",
        "colab_type": "text"
      },
      "source": [
        "Now we implement a short one-liner to define a very simple linear algebra operation\n",
        "\n",
        "In case you are unfamiliar with matrxi-matrix multiplication: https://en.wikipedia.org/wiki/Matrix_multiplication\n",
        "\n",
        "sum(U' * (W . (U * S)))\n",
        "\n",
        "\n",
        "| Legend        |            |   \n",
        "| ------------- |-------------| \n",
        "| '      | transpose of a matrix | \n",
        "| * | matrix-matrix multiplication      |  \n",
        "| . | scalar multiplication      |   \n",
        "\n"
      ]
    },
    {
      "cell_type": "code",
      "metadata": {
        "id": "lXoLXj_5jme7",
        "colab_type": "code",
        "colab": {},
        "outputId": "d3121022-00cf-49e1-8aad-e76cfad99c08"
      },
      "source": [
        "start = time.time()\n",
        "res = np.sum(u.T.dot(w * u.dot(s)))\n",
        "print (time.time()-start)"
      ],
      "execution_count": 0,
      "outputs": [
        {
          "output_type": "stream",
          "text": [
            "1.0806496143341064\n"
          ],
          "name": "stdout"
        }
      ]
    },
    {
      "cell_type": "markdown",
      "metadata": {
        "id": "VoZq86Qljme-",
        "colab_type": "text"
      },
      "source": [
        "As you can see this executes perfectly fine. Note that this is even a very efficient execution because numpy uses a C/C++ backend which is known for it's performance. But what happens if U, S or W get such big that the available main memory cannot cope with it? Let's give it a try:"
      ]
    },
    {
      "cell_type": "code",
      "metadata": {
        "id": "-iSxpjoVjme_",
        "colab_type": "code",
        "colab": {}
      },
      "source": [
        "#u = np.random.rand(10000,100000)\n",
        "#s = np.random.rand(100000,10000)\n",
        "#w = np.random.rand(10000,10000)"
      ],
      "execution_count": 0,
      "outputs": []
    },
    {
      "cell_type": "markdown",
      "metadata": {
        "id": "DsG2FwUOjmfD",
        "colab_type": "text"
      },
      "source": [
        "After a short while you should see a memory error. This is because the operating system process was not able to allocate enough memory for storing the numpy array on the heap. Now it's time to re-implement the very same operations as DML in SystemML.\n",
        "Consider the following table which contains all DML syntax you need:\n",
        "\n",
        "| Syntax        |            |   \n",
        "| ------------- |-------------| \n",
        "| t(M)      | transpose of a matrix, where M is the matrix | \n",
        "| %*% | matrix-matrix multiplication      |  \n",
        "| * | scalar multiplication      |   \n"
      ]
    },
    {
      "cell_type": "markdown",
      "metadata": {
        "id": "3A4GLj_ajmfE",
        "colab_type": "text"
      },
      "source": [
        "In order to show the advantage of SystemML over numpy we've blown up the sizes of the matrices. Unfortunately, on a 1-2 worker Spark cluster it takes quite some time to complete. Therefore we've stripped down the example to smaller matrices below. But We might want to use some more workers which We easily can configure in the environment settings of the project within IBM Watson Studio."
      ]
    },
    {
      "cell_type": "code",
      "metadata": {
        "id": "_xRV3d6mjmfE",
        "colab_type": "code",
        "colab": {}
      },
      "source": [
        "script = \"\"\"\n",
        "U = rand(rows=1000,cols=10000)\n",
        "S = rand(rows=10000,cols=1000)\n",
        "W = rand(rows=1000,cols=1000)\n",
        "res = sum(t(U) %*% (W * (U%*%S)))\n",
        "\"\"\""
      ],
      "execution_count": 0,
      "outputs": []
    },
    {
      "cell_type": "markdown",
      "metadata": {
        "id": "NAwrqlHpjmfJ",
        "colab_type": "text"
      },
      "source": [
        "To get consistent results we switch from a random matrix initialization to something deterministic"
      ]
    },
    {
      "cell_type": "code",
      "metadata": {
        "id": "zrgF4I8djmfJ",
        "colab_type": "code",
        "colab": {},
        "outputId": "892e766a-f4e3-4681-a735-3f92ace4df3e"
      },
      "source": [
        "prog = dml(script).output('res')\n",
        "res = ml.execute(prog).get('res')\n",
        "print(res)"
      ],
      "execution_count": 0,
      "outputs": [
        {
          "output_type": "stream",
          "text": [
            "ANTLR Tool version 4.5.3 used for code generation does not match the current runtime version 4.7ANTLR Runtime version 4.5.3 used for parser compilation does not match the current runtime version 4.7ANTLR Tool version 4.5.3 used for code generation does not match the current runtime version 4.7ANTLR Runtime version 4.5.3 used for parser compilation does not match the current runtime version 4.7\n",
            "SystemML Statistics:\n",
            "Total execution time:\t\t10.522 sec.\n",
            "Number of executed Spark inst:\t0.\n",
            "\n",
            "\n",
            "6245157736010.988\n"
          ],
          "name": "stdout"
        }
      ]
    },
    {
      "cell_type": "markdown",
      "metadata": {
        "id": "W-UfbOaGjmfN",
        "colab_type": "text"
      },
      "source": [
        "# Final result or Output : \n",
        "If everything runs fine you should get *6252492444241.075* as result (or something in that bullpark). Beacuse normally after calculation we get this value. and our output is preety much closer to the expected output , It also show the time required for the calculation which is very nice.\n",
        "\n",
        "ThankYou\n",
        "\n",
        "\n"
      ]
    }
  ]
}